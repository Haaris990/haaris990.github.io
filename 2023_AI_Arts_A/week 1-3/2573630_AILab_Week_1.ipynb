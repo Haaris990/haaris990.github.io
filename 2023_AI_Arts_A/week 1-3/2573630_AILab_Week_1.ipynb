{
 "cells": [
  {
   "cell_type": "markdown",
   "id": "4eea2ed5",
   "metadata": {},
   "source": [
    "# Week 1: Getting started with Anaconda, Jupyter Notebook and Python\n",
    "\n",
    "Exercises to familiarise myself with Jupyter Notebook and its relationship to Python.\n",
    "\n",
    "Why did I chose to join this course:\n",
    "> I chose to join this course as I am very interested in AI and the creation and use of AI very interesting.\n",
    "\n",
    "Prior Experience:\n",
    "> I have a little experience using the programming language Python.\n",
    "\n",
    "What do I expect to learn in the course:\n",
    "- Add to my prior knowledge of Python.\n",
    "- Understand different AI algorithms.\n",
    "- Learn about different applications of AI.\n"
   ]
  },
  {
   "cell_type": "code",
   "execution_count": null,
   "id": "0d95f919",
   "metadata": {},
   "outputs": [],
   "source": [
    "print (\"Hello, World!\")"
   ]
  },
  {
   "cell_type": "code",
   "execution_count": null,
   "id": "ec724feb",
   "metadata": {},
   "outputs": [],
   "source": [
    "message = \"Hello World!\"\n",
    "\n",
    "print (message)"
   ]
  },
  {
   "cell_type": "markdown",
   "id": "d0219c6b",
   "metadata": {},
   "source": [
    "# Task 1-5: Use the code above to answer the following questions\n"
   ]
  },
  {
   "cell_type": "code",
   "execution_count": null,
   "id": "5400701a",
   "metadata": {},
   "outputs": [],
   "source": [
    "# Task 1 - Try changing the value of message to print out your own greeting\n",
    "\n",
    "message = \"This is Python\"\n",
    "\n",
    "print (message)"
   ]
  },
  {
   "cell_type": "code",
   "execution_count": null,
   "id": "7f57933e",
   "metadata": {},
   "outputs": [],
   "source": [
    "# Task 2 - What happens when you print message + message? What is your output?\n",
    "\n",
    "message = \"Hello World!\"\n",
    "\n",
    "print (message + message)"
   ]
  },
  {
   "cell_type": "code",
   "execution_count": null,
   "id": "3f5aa1f7",
   "metadata": {},
   "outputs": [],
   "source": [
    "# Task 3 - What happens when you print message*3? What is your output?\n",
    "\n",
    "message = \"Hello World!\"\n",
    "\n",
    "print (message*3)"
   ]
  },
  {
   "cell_type": "code",
   "execution_count": null,
   "id": "0e33d47a",
   "metadata": {},
   "outputs": [],
   "source": [
    "# Task 4 - What happens when you print message [0]? What is your output? Why?\n",
    "\n",
    "message = \"Hello World!\"\n",
    "\n",
    "print (message[0])\n",
    "\n",
    "# This outputs the first index of the message as python uses zero indexing therefore outputs the letter H"
   ]
  },
  {
   "cell_type": "code",
   "execution_count": null,
   "id": "8a28b99d",
   "metadata": {},
   "outputs": [],
   "source": [
    "# Task 5 - Do you think message is a good variable name? If you should change it, you need to change the line with the print function. How would you change it to get it to print out the value of the newly named variable?\n",
    "\n",
    "output = \"Hello World!\"\n",
    "\n",
    "print (output)\n"
   ]
  },
  {
   "cell_type": "markdown",
   "id": "5cba32d1",
   "metadata": {},
   "source": [
    "# Task 1-6: A first look at importing library and packages "
   ]
  },
  {
   "cell_type": "code",
   "execution_count": null,
   "id": "eb8a9027",
   "metadata": {},
   "outputs": [],
   "source": [
    "from IPython.display import *\n"
   ]
  },
  {
   "cell_type": "code",
   "execution_count": null,
   "id": "f4827730",
   "metadata": {},
   "outputs": [],
   "source": [
    "YouTubeVideo(\"05PKG_pWsVY\")"
   ]
  },
  {
   "cell_type": "markdown",
   "id": "45050836",
   "metadata": {},
   "source": [
    "# Optional task 1-8"
   ]
  },
  {
   "cell_type": "code",
   "execution_count": null,
   "id": "31dfa1d4",
   "metadata": {},
   "outputs": [],
   "source": [
    "import webbrowser\n",
    "import requests\n",
    "\n",
    "print(\"Shall we hunt down an old website?\")\n",
    "site = input(\"Type a website URL: \")\n",
    "era = input(\"Type year, month, and date, e.g., 20150613: \")\n",
    "url = \"http://archive.org/wayback/available?url=%s&timestamp=%s\" % (site, era)\n",
    "response = requests.get(url)\n",
    "data = response.json()\n",
    "try:\n",
    "    old_site = data[\"archived_snapshots\"][\"closest\"][\"url\"]\n",
    "    print(\"Found this copy: \", old_site)\n",
    "    print(\"It should appear in your browser.\")\n",
    "    webbrowser.open(old_site)\n",
    "except:\n",
    "    print(\"Sorry, could not find the site.\")\n"
   ]
  },
  {
   "cell_type": "markdown",
   "id": "3a306522",
   "metadata": {},
   "source": [
    "# Week 2: Exploring Data in Multiple Ways"
   ]
  },
  {
   "cell_type": "code",
   "execution_count": null,
   "id": "0633e567",
   "metadata": {},
   "outputs": [],
   "source": [
    "from IPython.display import Image "
   ]
  },
  {
   "cell_type": "code",
   "execution_count": null,
   "id": "b79a030d",
   "metadata": {},
   "outputs": [],
   "source": [
    "Image (\"picture1.jpg\") "
   ]
  },
  {
   "cell_type": "code",
   "execution_count": null,
   "id": "5b9ceaae",
   "metadata": {},
   "outputs": [],
   "source": [
    "from IPython.display import Audio "
   ]
  },
  {
   "cell_type": "code",
   "execution_count": null,
   "id": "b817b501",
   "metadata": {},
   "outputs": [],
   "source": [
    "Audio (\"audio1.mid\")"
   ]
  },
  {
   "cell_type": "code",
   "execution_count": null,
   "id": "0181f59c",
   "metadata": {},
   "outputs": [],
   "source": [
    "Audio (\"audio2.ogg\")"
   ]
  },
  {
   "cell_type": "code",
   "execution_count": null,
   "id": "cb9e3ae2",
   "metadata": {},
   "outputs": [],
   "source": [
    "# This file is licensed under the Creative Commons Attribution-Share Alike 3.0 Unported license.\n",
    "\n",
    "# You are free: \n",
    "#    •to share – to copy, distribute and transmit the work\n",
    "#    •to remix – to adapt the work\n",
    "\n",
    "# Under the following conditions: \n",
    "    \n",
    "#    •attribution – You must give appropriate credit, provide a link to the license, and indicate if changes were made. You may do so in any reasonable manner, but not in any way that suggests the licensor endorses you or your use.\n",
    "#    •share alike – If you remix, transform, or build upon the material, you must distribute your contributions under the same or compatible license as the original.\n",
    "\n",
    "# The original ogg file was found at the url: \n",
    "#    https://en.wikipedia.org/wiki/File:GoldbergVariations_MehmetOkonsar-1of3_Var1to10.ogg\n"
   ]
  },
  {
   "cell_type": "markdown",
   "id": "b1b9d755",
   "metadata": {},
   "source": [
    "In reflection of of the resluts it is straight forward to import Python libraries and to then import various videos, images or audio. This can be useful when we need to use these forms of media to visualise data and add accessability."
   ]
  },
  {
   "cell_type": "markdown",
   "id": "8d036a92",
   "metadata": {},
   "source": [
    "# Task 3.2: Using the matplotlib library to look at picture as numerical data!"
   ]
  },
  {
   "cell_type": "code",
   "execution_count": null,
   "id": "09a8464b",
   "metadata": {},
   "outputs": [],
   "source": [
    "from matplotlib import pyplot\n",
    "test_picture = pyplot.imread(\"picture1.jpg\")\n",
    "print(\"Numpy array of the image is: \", test_picture)\n",
    "pyplot.imshow(test_picture)"
   ]
  },
  {
   "cell_type": "code",
   "execution_count": null,
   "id": "c6f0951d",
   "metadata": {},
   "outputs": [],
   "source": [
    "test_picture_filtered = 2*test_picture/3\n",
    "pyplot.imshow(test_picture_filtered)"
   ]
  },
  {
   "cell_type": "code",
   "execution_count": null,
   "id": "39ab8ccc",
   "metadata": {},
   "outputs": [],
   "source": []
  },
  {
   "cell_type": "markdown",
   "id": "f1599fbc",
   "metadata": {},
   "source": [
    "# Task 3-3: Exploring scikit-learn (a.k.a sklearn)"
   ]
  },
  {
   "cell_type": "code",
   "execution_count": null,
   "id": "5a30df0e",
   "metadata": {},
   "outputs": [],
   "source": [
    "from sklearn import datasets"
   ]
  },
  {
   "cell_type": "code",
   "execution_count": null,
   "id": "0d9f8fb1",
   "metadata": {},
   "outputs": [],
   "source": [
    "dir(datasets)"
   ]
  },
  {
   "cell_type": "markdown",
   "id": "9a9ca0f2",
   "metadata": {},
   "source": [
    "The datasets I have chosen are load_digits and load_sample_image as I feel like these two will be the most useful to use to interpret images and nunmerical values."
   ]
  },
  {
   "cell_type": "code",
   "execution_count": null,
   "id": "9294456a",
   "metadata": {},
   "outputs": [],
   "source": [
    "from sklearn import datasets\n",
    "digit_data = datasets.load_digits()\n",
    "\n",
    "print(digit_data.DESCR)"
   ]
  },
  {
   "cell_type": "code",
   "execution_count": null,
   "id": "e94bfe33",
   "metadata": {},
   "outputs": [],
   "source": [
    "digit_data.feature_names"
   ]
  },
  {
   "cell_type": "code",
   "execution_count": null,
   "id": "ec69d6d5",
   "metadata": {},
   "outputs": [],
   "source": [
    "digit_data.target_names"
   ]
  },
  {
   "cell_type": "markdown",
   "id": "d144c949",
   "metadata": {},
   "source": [
    "# Task 3-4: Basic Data Exploration with Python library Pandas"
   ]
  },
  {
   "cell_type": "code",
   "execution_count": null,
   "id": "518dfb4f",
   "metadata": {},
   "outputs": [],
   "source": [
    "from sklearn import datasets\n",
    "import pandas\n",
    "\n",
    "digit_data = datasets.load_digits()\n",
    "\n",
    "digit_dataframe = pandas.DataFrame(data=digit_data['data'], columns = digit_data['feature_names'])"
   ]
  },
  {
   "cell_type": "code",
   "execution_count": null,
   "id": "ce3a9e62",
   "metadata": {},
   "outputs": [],
   "source": []
  }
 ],
 "metadata": {
  "kernelspec": {
   "display_name": "Python 3 (ipykernel)",
   "language": "python",
   "name": "python3"
  },
  "language_info": {
   "codemirror_mode": {
    "name": "ipython",
    "version": 3
   },
   "file_extension": ".py",
   "mimetype": "text/x-python",
   "name": "python",
   "nbconvert_exporter": "python",
   "pygments_lexer": "ipython3",
   "version": "3.11.4"
  }
 },
 "nbformat": 4,
 "nbformat_minor": 5
}
